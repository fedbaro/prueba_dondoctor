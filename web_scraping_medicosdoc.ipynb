{
 "cells": [
  {
   "cell_type": "markdown",
   "id": "d5625849",
   "metadata": {},
   "source": [
    "# Prueba Técnica - DonDoctor\n",
    "#### Web Scraping Extracción Directorio Médico\n",
    "##### Félix Eduardo Barahona Romero\n",
    "##### url git: https://github.com/fedbaro/prueba_dondoctor.git\n",
    "---"
   ]
  },
  {
   "cell_type": "markdown",
   "id": "a17899d5",
   "metadata": {},
   "source": [
    "#### Importe librerías"
   ]
  },
  {
   "cell_type": "code",
   "execution_count": 1,
   "id": "1d230d4a",
   "metadata": {},
   "outputs": [],
   "source": [
    "# Imports\n",
    "\n",
    "import requests\n",
    "import re\n",
    "from bs4 import BeautifulSoup\n",
    "import pandas as pd"
   ]
  },
  {
   "cell_type": "markdown",
   "id": "1aa94de7",
   "metadata": {},
   "source": [
    "#### Solicitud ciudad de busqueda"
   ]
  },
  {
   "cell_type": "code",
   "execution_count": 2,
   "id": "e56199d0",
   "metadata": {},
   "outputs": [
    {
     "name": "stdout",
     "output_type": "stream",
     "text": [
      "apartado\n",
      "armenia\n",
      "barrancabermeja\n",
      "barranquilla\n",
      "bello\n",
      "bogota\n",
      "bucaramanga\n",
      "buenaventura\n",
      "buga\n",
      "cali\n",
      "cartagena\n",
      "cartago\n",
      "caucasia\n",
      "chia\n",
      "choco\n",
      "cienega\n",
      "cota\n",
      "cucuta\n",
      "dosquebradas\n",
      "duitama\n",
      "envigado\n",
      "facatativa\n",
      "florencia\n",
      "floridablanca\n",
      "fusagasuga\n",
      "girardot\n",
      "giron\n",
      "ibague\n",
      "ipiales\n",
      "itagui\n",
      "jamundi\n",
      "la-dorada\n",
      "lorica\n",
      "magangue\n",
      "maicao\n",
      "malambo\n",
      "manizales\n",
      "medellin\n",
      "monteria\n",
      "neiva\n",
      "ocaña\n",
      "palmira\n",
      "pasto\n",
      "pereira\n",
      "pitalito\n",
      "popayan\n",
      "quibdo\n",
      "riohacha\n",
      "rionegro\n",
      "san-andres\n",
      "santa-marta\n",
      "saravena\n",
      "sincelejo\n",
      "soacha\n",
      "sogamoso\n",
      "soledad\n",
      "tulua\n",
      "tunja\n",
      "turbo\n",
      "uribia\n",
      "valledupar\n",
      "villavicencio\n",
      "yopal\n",
      "zipaquira\n"
     ]
    },
    {
     "name": "stdin",
     "output_type": "stream",
     "text": [
      "\n",
      " \n",
      " Ingrese la ciudad de búsqueda como aparece en la lista:  pasto\n"
     ]
    }
   ],
   "source": [
    "#lista de ciudades disponibles para scrapear en la url https://medicosdoc.com/directorio-salud\n",
    "lista_ciudades = ['apartado', 'armenia', 'barrancabermeja', 'barranquilla', 'bello', 'bogota', 'bucaramanga', \n",
    "                'buenaventura', 'buga', 'cali', 'cartagena', 'cartago', 'caucasia', 'chia', 'choco', \n",
    "                'cienega', 'cota', 'cucuta', 'dosquebradas', 'duitama', 'envigado', 'facatativa', 'florencia', \n",
    "                'floridablanca', 'fusagasuga', 'girardot', 'giron', 'ibague', 'ipiales', 'itagui', 'jamundi', \n",
    "                'la-dorada', 'lorica', 'magangue', 'maicao', 'malambo', 'manizales', 'medellin', 'monteria', \n",
    "                'neiva', 'ocaña', 'palmira', 'pasto', 'pereira', 'pitalito', 'popayan', 'quibdo', 'riohacha', \n",
    "                'rionegro', 'san-andres', 'santa-marta', 'saravena', 'sincelejo', 'soacha', 'sogamoso', 'soledad', \n",
    "                'tulua', 'tunja', 'turbo', 'uribia', 'valledupar', 'villavicencio', 'yopal', 'zipaquira']\n",
    "\n",
    "#Print lista de ciudades\n",
    "for c in lista_ciudades:\n",
    "    print(c)\n",
    "\n",
    "#Se solicita al usuario ciudad de busqueda\n",
    "ciudad_busqueda = input('\\n \\n Ingrese la ciudad de búsqueda como aparece en la lista: ')"
   ]
  },
  {
   "cell_type": "markdown",
   "id": "630ebd0b",
   "metadata": {},
   "source": [
    "#### Creación url principal y request BS4"
   ]
  },
  {
   "cell_type": "code",
   "execution_count": 3,
   "id": "312f6c80",
   "metadata": {},
   "outputs": [
    {
     "data": {
      "text/plain": [
       "'https://medicosdoc.com/directorio-salud-pasto'"
      ]
     },
     "execution_count": 3,
     "metadata": {},
     "output_type": "execute_result"
    }
   ],
   "source": [
    "# Creación de url principal de pagina web a scrapear\n",
    "url = 'https://medicosdoc.com/directorio-salud-'+ciudad_busqueda\n",
    "url"
   ]
  },
  {
   "cell_type": "code",
   "execution_count": 4,
   "id": "d3c83247",
   "metadata": {},
   "outputs": [],
   "source": [
    "# Definimos un diccionario para setear los headers\n",
    "head = {'user-agent': 'Mozilla/5.0 (Windows NT 10.0; Win64; x64) AppleWebKit/537.36 (KHTML, like Gecko) '\n",
    "        'Chrome/106.0.0.0 Safari/537.36 Edg/106.0.1370.40'}\n",
    "\n",
    "# Hacemos petición request cambiando los headers\n",
    "resp_dm = requests.get(url, headers = head)"
   ]
  },
  {
   "cell_type": "code",
   "execution_count": 5,
   "id": "7a5a38c1",
   "metadata": {},
   "outputs": [
    {
     "data": {
      "text/plain": [
       "{'user-agent': 'Mozilla/5.0 (Windows NT 10.0; Win64; x64) AppleWebKit/537.36 (KHTML, like Gecko) Chrome/106.0.0.0 Safari/537.36 Edg/106.0.1370.40', 'Accept-Encoding': 'gzip, deflate, br', 'Accept': '*/*', 'Connection': 'keep-alive'}"
      ]
     },
     "execution_count": 5,
     "metadata": {},
     "output_type": "execute_result"
    }
   ],
   "source": [
    "# Se valida que los encabezados de la peticón al servidor fueron modificados\n",
    "resp_dm.request.headers"
   ]
  },
  {
   "cell_type": "code",
   "execution_count": 6,
   "id": "32087cc7",
   "metadata": {},
   "outputs": [
    {
     "name": "stdout",
     "output_type": "stream",
     "text": [
      "200\n"
     ]
    }
   ],
   "source": [
    "# Validamos estado conexión servidor\n",
    "print(resp_dm.status_code)"
   ]
  },
  {
   "cell_type": "code",
   "execution_count": 7,
   "id": "c72aec5d",
   "metadata": {},
   "outputs": [],
   "source": [
    "#Validamos contenido recibido\n",
    "#resp_dm.content"
   ]
  },
  {
   "cell_type": "code",
   "execution_count": 8,
   "id": "25805876",
   "metadata": {},
   "outputs": [
    {
     "data": {
      "text/plain": [
       "bs4.BeautifulSoup"
      ]
     },
     "execution_count": 8,
     "metadata": {},
     "output_type": "execute_result"
    }
   ],
   "source": [
    "#Transformamos contenido html en objeto bs4\n",
    "soup = BeautifulSoup(resp_dm.content, 'html.parser')\n",
    "type(soup)"
   ]
  },
  {
   "cell_type": "code",
   "execution_count": 9,
   "id": "b66af871",
   "metadata": {},
   "outputs": [],
   "source": [
    "#validamos soup\n",
    "#print(soup.prettify())"
   ]
  },
  {
   "cell_type": "code",
   "execution_count": 10,
   "id": "7e25448c",
   "metadata": {},
   "outputs": [],
   "source": [
    "#Inspeccionamos especialidades y urls\n",
    "s = BeautifulSoup(resp_dm.text)\n",
    "subespecialidad = s.find(\"h5\", attrs={'class':'tituloSubespecialidad'})\n",
    "#print(subespecialidad)"
   ]
  },
  {
   "cell_type": "markdown",
   "id": "1b5fc484",
   "metadata": {},
   "source": [
    "#### Llamado funciones request y tratamiento de datos"
   ]
  },
  {
   "cell_type": "code",
   "execution_count": 11,
   "id": "2b0f9d8e",
   "metadata": {},
   "outputs": [],
   "source": [
    "# Empaquetamos todo lo anterior en una función y le agregamos código a prueba de fallas\n",
    "def get_info(url: str) -> (str, str):\n",
    "  try:\n",
    "    resp = requests.get(url)\n",
    "  except Exception as e:\n",
    "    print(\"Error en la request.\", e)\n",
    "    return ('', '')\n",
    "  if resp.status_code != 200:\n",
    "    print('Error en la respuesta. Status_code = ', resp.status_code)\n",
    "    return '', ''\n",
    "  \n",
    "  s = BeautifulSoup(resp.text)\n",
    "  try:\n",
    "    \n",
    "    #se crea bs tag principal\n",
    "    #con ciclos for se extrae data de los tag relevantes contenidos en el tag principal\n",
    "    for heading in s.find_all(\"ul\", attrs={'id':'resultmedicos'}):\n",
    "        medico = []\n",
    "        enlace = []\n",
    "        for nombre in heading.findAll(\"h3\"):            \n",
    "            medico.append(nombre.text.strip().replace('  ',' '))   \n",
    "            enlace.append(resp.request.url)\n",
    "      \n",
    "    for heading in s.find_all(\"ul\", attrs={'id':'resultmedicos'}):\n",
    "        direccion = []\n",
    "        entidad = []\n",
    "        ciudad = []\n",
    "        for location in heading.find_all('p', attrs={'class':'doclocation'}):\n",
    "            direccion.append(location.text.split('\\n',2)[1].strip().replace('  ',' '))\n",
    "            entidad.append(location.text.split('\\n',3)[2].strip().replace('  ',' '))\n",
    "            ciudad.append(location.text.split('\\n',4)[3].strip().split(',',1)[0].replace('  ',' '))\n",
    "            del_ciudad = (location.text.split('\\n',4)[3].strip().split(',',1)[0].replace('  ',' '))\n",
    "            \n",
    "    for heading in s.find_all(\"ul\", attrs={'id':'resultmedicos'}):\n",
    "        especialidad = []\n",
    "        for esp in heading.find_all(\"h4\"):\n",
    "            especialidad.append(esp.text.strip().replace('  ',' ').replace(' '+del_ciudad,''))\n",
    "   \n",
    "    #se retorna una lista con la data requerida\n",
    "    return medico, especialidad, direccion, entidad, ciudad, enlace\n",
    "  except:\n",
    "    print(\"Error obteniendo datos\")\n",
    "    return '',''   "
   ]
  },
  {
   "cell_type": "code",
   "execution_count": 12,
   "id": "93c11419",
   "metadata": {},
   "outputs": [],
   "source": [
    "#Prueba función get_info\n",
    "#url_prueba = 'https://medicosdoc.com/subespecialidad/cardiologo-tunja'\n",
    "#get_info(url_prueba)"
   ]
  },
  {
   "cell_type": "code",
   "execution_count": 13,
   "id": "4ec84ee5",
   "metadata": {},
   "outputs": [],
   "source": [
    "#se define función para conbvertir a df data de la lista creada por la funcion get_info\n",
    "\n",
    "def crear_df(lista: list) -> list:\n",
    "    \n",
    "    try:\n",
    "        df_directorio = pd.DataFrame({\"medico\" : lista[0], \"especialidad\" : lista[1], \n",
    "                              \"direccion\" : lista[2], \"clinica\" : lista[3], \"ciudad\" : lista[4], \"url\" : lista[5]}, dtype=('string'))    \n",
    "        return df_directorio\n",
    "    except:\n",
    "        print(\"Error obteniendo datos\")\n",
    "        return None\n",
    "#crear_df(lista_dir)"
   ]
  },
  {
   "cell_type": "code",
   "execution_count": 14,
   "id": "52ab10ab",
   "metadata": {},
   "outputs": [],
   "source": [
    "#Extracción urls subespecialidades\n",
    "#se extraen las urls por cada especialidad como se encuentra estructurado en la página\n",
    "subespecialidades = s.findAll(\"h5\", attrs={'class':'tituloSubespecialidad'})\n",
    "links = [sub.find('a').get('href') for sub in subespecialidades]\n",
    "#links"
   ]
  },
  {
   "cell_type": "code",
   "execution_count": 15,
   "id": "29a53931",
   "metadata": {},
   "outputs": [
    {
     "data": {
      "text/plain": [
       "8"
      ]
     },
     "execution_count": 15,
     "metadata": {},
     "output_type": "execute_result"
    }
   ],
   "source": [
    "#se valida longitud lista especialidades\n",
    "len(subespecialidades)"
   ]
  },
  {
   "cell_type": "code",
   "execution_count": 16,
   "id": "7e8188e6",
   "metadata": {},
   "outputs": [
    {
     "data": {
      "text/plain": [
       "8"
      ]
     },
     "execution_count": 16,
     "metadata": {},
     "output_type": "execute_result"
    }
   ],
   "source": [
    "#se valida longitud lista links, debe ser igual a la lista subespecialidades\n",
    "len(links)"
   ]
  },
  {
   "cell_type": "code",
   "execution_count": 17,
   "id": "1f541de0",
   "metadata": {},
   "outputs": [],
   "source": [
    "#se define función principal que realizar requets a cada enlace por especialidad\n",
    "#se generarn df por cada especialidad\n",
    "#se concatenan cada uno de los df para crear df final consolidado\n",
    "def extraer_informacion(links: list) -> list:\n",
    "    \n",
    "    data = []\n",
    "    total = len(links)\n",
    "    dfs = []\n",
    "    for i,link in enumerate(links):\n",
    "        \n",
    "        if link.startswith('/'):\n",
    "            link = 'https://medicosdoc.com'+link\n",
    "        print('[{}/{} - Pidiendo {}'.format(i, total, link))\n",
    "        \n",
    "        lista_dir = get_info(link)\n",
    "        df_dir = crear_df(lista_dir)\n",
    "        dfs.append(df_dir)\n",
    "\n",
    "        df_final = pd.concat(dfs)\n",
    "    \n",
    "    return df_final"
   ]
  },
  {
   "cell_type": "code",
   "execution_count": 18,
   "id": "a79fdf3b",
   "metadata": {},
   "outputs": [],
   "source": [
    "# prueba función final\n",
    "#enlaces = ['/subespecialidad/cardiologo-tunja', '/subespecialidad/alergologo-tunja', '/subespecialidad/alergologo-pediatra-tunja']\n",
    "#lista_prueba = extraer_informacion(enlaces)"
   ]
  },
  {
   "cell_type": "code",
   "execution_count": 19,
   "id": "7b738328",
   "metadata": {},
   "outputs": [],
   "source": [
    "#lista_prueba"
   ]
  },
  {
   "cell_type": "code",
   "execution_count": 20,
   "id": "7430225e",
   "metadata": {},
   "outputs": [
    {
     "name": "stdout",
     "output_type": "stream",
     "text": [
      "[0/8 - Pidiendo https://medicosdoc.com/subespecialidad/centros-medicos-pasto\n",
      "[1/8 - Pidiendo https://medicosdoc.com/subespecialidad/clinica-pasto\n",
      "[2/8 - Pidiendo https://medicosdoc.com/subespecialidad/cuidados-intensivos-pasto\n",
      "[3/8 - Pidiendo https://medicosdoc.com/subespecialidad/hospitalizacion-pasto\n",
      "[4/8 - Pidiendo https://medicosdoc.com/subespecialidad/laboratorio-clinico-pasto\n",
      "[5/8 - Pidiendo https://medicosdoc.com/subespecialidad/urgencias-pasto\n",
      "[6/8 - Pidiendo https://medicosdoc.com/subespecialidad/optica-pasto\n",
      "[7/8 - Pidiendo https://medicosdoc.com/subespecialidad/vacunacion-pasto\n"
     ]
    }
   ],
   "source": [
    "# procesamiento data funcion final, llamado función\n",
    "df_directorio = extraer_informacion(links)"
   ]
  },
  {
   "cell_type": "markdown",
   "id": "9622a30c",
   "metadata": {},
   "source": [
    "#### Limpieza y export dataset"
   ]
  },
  {
   "cell_type": "code",
   "execution_count": 21,
   "id": "1702b07a",
   "metadata": {},
   "outputs": [
    {
     "data": {
      "text/html": [
       "<div>\n",
       "<style scoped>\n",
       "    .dataframe tbody tr th:only-of-type {\n",
       "        vertical-align: middle;\n",
       "    }\n",
       "\n",
       "    .dataframe tbody tr th {\n",
       "        vertical-align: top;\n",
       "    }\n",
       "\n",
       "    .dataframe thead th {\n",
       "        text-align: right;\n",
       "    }\n",
       "</style>\n",
       "<table border=\"1\" class=\"dataframe\">\n",
       "  <thead>\n",
       "    <tr style=\"text-align: right;\">\n",
       "      <th></th>\n",
       "      <th>medico</th>\n",
       "      <th>especialidad</th>\n",
       "      <th>direccion</th>\n",
       "      <th>clinica</th>\n",
       "      <th>ciudad</th>\n",
       "      <th>url</th>\n",
       "    </tr>\n",
       "  </thead>\n",
       "  <tbody>\n",
       "    <tr>\n",
       "      <th>0</th>\n",
       "      <td>Centro de Habilitación del Niño \"CEHANI\"</td>\n",
       "      <td>Ayudas diagnósticas Centros médicos Cirujano C...</td>\n",
       "      <td>Calle 18 No. 45 - 49</td>\n",
       "      <td></td>\n",
       "      <td>Pasto</td>\n",
       "      <td>https://medicosdoc.com/subespecialidad/centros...</td>\n",
       "    </tr>\n",
       "    <tr>\n",
       "      <th>1</th>\n",
       "      <td>Medinuclear</td>\n",
       "      <td>Ayudas diagnósticas Centros médicos Oncólogo</td>\n",
       "      <td>Cra. 34 No. 11 A -12</td>\n",
       "      <td></td>\n",
       "      <td>Pasto</td>\n",
       "      <td>https://medicosdoc.com/subespecialidad/centros...</td>\n",
       "    </tr>\n",
       "    <tr>\n",
       "      <th>0</th>\n",
       "      <td>Centro de Habilitación del Niño \"CEHANI\"</td>\n",
       "      <td>Ayudas diagnósticas Centros médicos Cirujano C...</td>\n",
       "      <td>Calle 18 No. 45 - 49</td>\n",
       "      <td></td>\n",
       "      <td>Pasto</td>\n",
       "      <td>https://medicosdoc.com/subespecialidad/clinica...</td>\n",
       "    </tr>\n",
       "    <tr>\n",
       "      <th>1</th>\n",
       "      <td>Clínica Nuestra Señora de Fatima</td>\n",
       "      <td>Cirujano Clínica Vacunación</td>\n",
       "      <td>Calle 21 No. 26- 40</td>\n",
       "      <td></td>\n",
       "      <td>Pasto</td>\n",
       "      <td>https://medicosdoc.com/subespecialidad/clinica...</td>\n",
       "    </tr>\n",
       "    <tr>\n",
       "      <th>2</th>\n",
       "      <td>Clínica Oncológica Aurora SAS</td>\n",
       "      <td>Clínica Medicina nuclear Oncólogo Radioterapeuta</td>\n",
       "      <td>Carrera 34 No. 11 A - 12, piso 2-3-5</td>\n",
       "      <td></td>\n",
       "      <td>Pasto</td>\n",
       "      <td>https://medicosdoc.com/subespecialidad/clinica...</td>\n",
       "    </tr>\n",
       "  </tbody>\n",
       "</table>\n",
       "</div>"
      ],
      "text/plain": [
       "                                     medico  \\\n",
       "0  Centro de Habilitación del Niño \"CEHANI\"   \n",
       "1                               Medinuclear   \n",
       "0  Centro de Habilitación del Niño \"CEHANI\"   \n",
       "1          Clínica Nuestra Señora de Fatima   \n",
       "2             Clínica Oncológica Aurora SAS   \n",
       "\n",
       "                                        especialidad  \\\n",
       "0  Ayudas diagnósticas Centros médicos Cirujano C...   \n",
       "1       Ayudas diagnósticas Centros médicos Oncólogo   \n",
       "0  Ayudas diagnósticas Centros médicos Cirujano C...   \n",
       "1                        Cirujano Clínica Vacunación   \n",
       "2   Clínica Medicina nuclear Oncólogo Radioterapeuta   \n",
       "\n",
       "                              direccion clinica ciudad  \\\n",
       "0                  Calle 18 No. 45 - 49          Pasto   \n",
       "1                  Cra. 34 No. 11 A -12          Pasto   \n",
       "0                  Calle 18 No. 45 - 49          Pasto   \n",
       "1                   Calle 21 No. 26- 40          Pasto   \n",
       "2  Carrera 34 No. 11 A - 12, piso 2-3-5          Pasto   \n",
       "\n",
       "                                                 url  \n",
       "0  https://medicosdoc.com/subespecialidad/centros...  \n",
       "1  https://medicosdoc.com/subespecialidad/centros...  \n",
       "0  https://medicosdoc.com/subespecialidad/clinica...  \n",
       "1  https://medicosdoc.com/subespecialidad/clinica...  \n",
       "2  https://medicosdoc.com/subespecialidad/clinica...  "
      ]
     },
     "execution_count": 21,
     "metadata": {},
     "output_type": "execute_result"
    }
   ],
   "source": [
    "#validación estructura df final\n",
    "df_directorio.head(5)\n",
    "#df_directorio"
   ]
  },
  {
   "cell_type": "code",
   "execution_count": 22,
   "id": "0eb04aeb",
   "metadata": {},
   "outputs": [],
   "source": [
    "#se eliminan duplicados si existen\n",
    "df_directorio.drop_duplicates(ignore_index=True, inplace=True)\n",
    "#df_directorio"
   ]
  },
  {
   "cell_type": "code",
   "execution_count": 23,
   "id": "203ee8a9",
   "metadata": {},
   "outputs": [],
   "source": [
    "#se exporta archivo en formato csv\n",
    "df_directorio.to_csv('directorio_salud_'+ciudad_busqueda+'.csv', index=False, encoding='utf-8', sep = ';')"
   ]
  },
  {
   "cell_type": "code",
   "execution_count": 24,
   "id": "22be6a1f",
   "metadata": {},
   "outputs": [],
   "source": [
    "#se exporta archivo en formato excel\n",
    "df_directorio.to_excel('directorio_salud_'+ciudad_busqueda+'.xlsx', index=False, encoding='latin1')"
   ]
  },
  {
   "cell_type": "code",
   "execution_count": null,
   "id": "651bf739",
   "metadata": {},
   "outputs": [],
   "source": []
  },
  {
   "cell_type": "code",
   "execution_count": null,
   "id": "32161443",
   "metadata": {},
   "outputs": [],
   "source": []
  }
 ],
 "metadata": {
  "kernelspec": {
   "display_name": "Python [conda env:dhds2022] *",
   "language": "python",
   "name": "conda-env-dhds2022-py"
  },
  "language_info": {
   "codemirror_mode": {
    "name": "ipython",
    "version": 3
   },
   "file_extension": ".py",
   "mimetype": "text/x-python",
   "name": "python",
   "nbconvert_exporter": "python",
   "pygments_lexer": "ipython3",
   "version": "3.10.4"
  }
 },
 "nbformat": 4,
 "nbformat_minor": 5
}
