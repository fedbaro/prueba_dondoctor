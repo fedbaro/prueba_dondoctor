{
 "cells": [
  {
   "cell_type": "markdown",
   "id": "67927c38",
   "metadata": {},
   "source": [
    "# Prueba Técnica - DonDoctor\n",
    "#### Web Scraping Extracción Directorio Médico\n",
    "##### Félix Eduardo Barahona Romero\n",
    "##### url git\n",
    "---"
   ]
  },
  {
   "cell_type": "markdown",
   "id": "0a785c59",
   "metadata": {},
   "source": [
    "#### Importe librerías"
   ]
  },
  {
   "cell_type": "code",
   "execution_count": null,
   "id": "35939232",
   "metadata": {},
   "outputs": [],
   "source": [
    "# Imports\n",
    "\n",
    "import requests\n",
    "import re\n",
    "from bs4 import BeautifulSoup\n",
    "import pandas as pd"
   ]
  },
  {
   "cell_type": "markdown",
   "id": "dfab1d66",
   "metadata": {},
   "source": [
    "#### Solicitud ciudad de busqueda"
   ]
  },
  {
   "cell_type": "code",
   "execution_count": null,
   "id": "55ecfc3e",
   "metadata": {},
   "outputs": [],
   "source": [
    "#lista de ciudades disponibles para scrapear en la url https://medicosdoc.com/directorio-salud\n",
    "lista_ciudades = ['apartado', 'armenia', 'barrancabermeja', 'barranquilla', 'bello', 'bogota', 'bucaramanga', \n",
    "                'buenaventura', 'buga', 'cali', 'cartagena', 'cartago', 'caucasia', 'chia', 'choco', \n",
    "                'cienega', 'cota', 'cucuta', 'dosquebradas', 'duitama', 'envigado', 'facatativa', 'florencia', \n",
    "                'floridablanca', 'fusagasuga', 'girardot', 'giron', 'ibague', 'ipiales', 'itagui', 'jamundi', \n",
    "                'la-dorada', 'lorica', 'magangue', 'maicao', 'malambo', 'manizales', 'medellin', 'monteria', \n",
    "                'neiva', 'ocaña', 'palmira', 'pasto', 'pereira', 'pitalito', 'popayan', 'quibdo', 'riohacha', \n",
    "                'rionegro', 'san-andres', 'santa-marta', 'saravena', 'sincelejo', 'soacha', 'sogamoso', 'soledad', \n",
    "                'tulua', 'tunja', 'turbo', 'uribia', 'valledupar', 'villavicencio', 'yopal', 'zipaquira']\n",
    "\n",
    "#Print lista de ciudades\n",
    "for c in lista_ciudades:\n",
    "    print(c)\n",
    "\n",
    "#Se solicita al usuario ciudad de busqueda\n",
    "ciudad_busqueda = input('\\n \\n Ingrese la ciudad de búsqueda como aparece en la lista: ')"
   ]
  },
  {
   "cell_type": "markdown",
   "id": "66aaa878",
   "metadata": {},
   "source": [
    "#### Creación url principal y request BS4"
   ]
  },
  {
   "cell_type": "code",
   "execution_count": null,
   "id": "8607cd85",
   "metadata": {},
   "outputs": [],
   "source": [
    "# Creación de url principal de pagina web a scrapear\n",
    "url = 'https://medicosdoc.com/directorio-salud-'+ciudad_busqueda\n",
    "url"
   ]
  },
  {
   "cell_type": "code",
   "execution_count": null,
   "id": "e8e140c9",
   "metadata": {},
   "outputs": [],
   "source": [
    "# Definimos un diccionario para setear los headers\n",
    "head = {'user-agent': 'Mozilla/5.0 (Windows NT 10.0; Win64; x64) AppleWebKit/537.36 (KHTML, like Gecko) '\n",
    "        'Chrome/106.0.0.0 Safari/537.36 Edg/106.0.1370.40'}\n",
    "\n",
    "# Hacemos petición request cambiando los headers\n",
    "resp_dm = requests.get(url, headers = head)"
   ]
  },
  {
   "cell_type": "code",
   "execution_count": null,
   "id": "b597df85",
   "metadata": {},
   "outputs": [],
   "source": [
    "# Se valida que los encabezados de la peticón al servidor fueron modificados\n",
    "resp_dm.request.headers"
   ]
  },
  {
   "cell_type": "code",
   "execution_count": null,
   "id": "22e7109e",
   "metadata": {},
   "outputs": [],
   "source": [
    "# Validamos estado conexión servidor\n",
    "print(resp_dm.status_code)"
   ]
  },
  {
   "cell_type": "code",
   "execution_count": null,
   "id": "9f9776c8",
   "metadata": {},
   "outputs": [],
   "source": [
    "#Validamos contenido recibido\n",
    "#resp_dm.content"
   ]
  },
  {
   "cell_type": "code",
   "execution_count": null,
   "id": "97b2e9e1",
   "metadata": {},
   "outputs": [],
   "source": [
    "#Transformamos contenido html en objeto bs4\n",
    "soup = BeautifulSoup(resp_dm.content, 'html.parser')\n",
    "type(soup)"
   ]
  },
  {
   "cell_type": "code",
   "execution_count": null,
   "id": "04c1e8bd",
   "metadata": {},
   "outputs": [],
   "source": [
    "#validamos soup\n",
    "#print(soup.prettify())"
   ]
  },
  {
   "cell_type": "code",
   "execution_count": null,
   "id": "55cd27ff",
   "metadata": {},
   "outputs": [],
   "source": [
    "#Inspeccionamos especialidades y urls\n",
    "s = BeautifulSoup(resp_dm.text)\n",
    "subespecialidad = s.find(\"h5\", attrs={'class':'tituloSubespecialidad'})\n",
    "#print(subespecialidad)"
   ]
  },
  {
   "cell_type": "markdown",
   "id": "a6429147",
   "metadata": {},
   "source": [
    "#### Llamado funciones request y tratamiento de datos"
   ]
  },
  {
   "cell_type": "code",
   "execution_count": null,
   "id": "161c00c8",
   "metadata": {},
   "outputs": [],
   "source": [
    "# Empaquetamos todo lo anterior en una función y le agregamos código a prueba de fallas\n",
    "def get_info(url: str) -> (str, str):\n",
    "  try:\n",
    "    resp = requests.get(url)\n",
    "  except Exception as e:\n",
    "    print(\"Error en la request.\", e)\n",
    "    return ('', '')\n",
    "  if resp.status_code != 200:\n",
    "    print('Error en la respuesta. Status_code = ', resp.status_code)\n",
    "    return '', ''\n",
    "  \n",
    "  s = BeautifulSoup(resp.text)\n",
    "  try:\n",
    "    \n",
    "    #se crea bs tag principal\n",
    "    #con ciclos for se extrae data de los tag relevantes contenidos en el tag principal\n",
    "    for heading in s.find_all(\"ul\", attrs={'id':'resultmedicos'}):\n",
    "        medico = []\n",
    "        enlace = []\n",
    "        for nombre in heading.findAll(\"h3\"):            \n",
    "            medico.append(nombre.text.strip().replace('  ',' '))   \n",
    "            enlace.append(resp.request.url)\n",
    "      \n",
    "    for heading in s.find_all(\"ul\", attrs={'id':'resultmedicos'}):\n",
    "        direccion = []\n",
    "        entidad = []\n",
    "        ciudad = []\n",
    "        for location in heading.find_all('p', attrs={'class':'doclocation'}):\n",
    "            direccion.append(location.text.split('\\n',2)[1].strip().replace('  ',' '))\n",
    "            entidad.append(location.text.split('\\n',3)[2].strip().replace('  ',' '))\n",
    "            ciudad.append(location.text.split('\\n',4)[3].strip().split(',',1)[0].replace('  ',' '))\n",
    "            del_ciudad = (location.text.split('\\n',4)[3].strip().split(',',1)[0].replace('  ',' '))\n",
    "            \n",
    "    for heading in s.find_all(\"ul\", attrs={'id':'resultmedicos'}):\n",
    "        especialidad = []\n",
    "        for esp in heading.find_all(\"h4\"):\n",
    "            especialidad.append(esp.text.strip().replace('  ',' ').replace(' '+del_ciudad,''))\n",
    "   \n",
    "    #se retorna una lista con la data requerida\n",
    "    return medico, especialidad, direccion, entidad, ciudad, enlace\n",
    "  except:\n",
    "    print(\"Error obteniendo datos\")\n",
    "    return '',''   "
   ]
  },
  {
   "cell_type": "code",
   "execution_count": null,
   "id": "2dca4af1",
   "metadata": {},
   "outputs": [],
   "source": [
    "#Prueba función get_info\n",
    "#url_prueba = 'https://medicosdoc.com/subespecialidad/cardiologo-tunja'\n",
    "#get_info(url_prueba)"
   ]
  },
  {
   "cell_type": "code",
   "execution_count": null,
   "id": "28c12972",
   "metadata": {},
   "outputs": [],
   "source": [
    "#se define función para conbvertir a df data de la lista creada por la funcion get_info\n",
    "\n",
    "def crear_df(lista: list) -> list:\n",
    "    \n",
    "    try:\n",
    "        df_directorio = pd.DataFrame({\"medico\" : lista[0], \"especialidad\" : lista[1], \n",
    "                              \"direccion\" : lista[2], \"clinica\" : lista[3], \"ciudad\" : lista[4], \"url\" : lista[5]}, dtype=('string'))    \n",
    "        return df_directorio\n",
    "    except:\n",
    "        print(\"Error obteniendo datos\")\n",
    "        return None\n",
    "#crear_df(lista_dir)"
   ]
  },
  {
   "cell_type": "code",
   "execution_count": null,
   "id": "ebfd300e",
   "metadata": {},
   "outputs": [],
   "source": [
    "#Extracción urls subespecialidades\n",
    "#se extraen las urls por cada especialidad como se encuentra estructurado en la página\n",
    "subespecialidades = s.findAll(\"h5\", attrs={'class':'tituloSubespecialidad'})\n",
    "links = [sub.find('a').get('href') for sub in subespecialidades]\n",
    "#links"
   ]
  },
  {
   "cell_type": "code",
   "execution_count": null,
   "id": "b372e316",
   "metadata": {},
   "outputs": [],
   "source": [
    "#se valida longitud lista especialidades\n",
    "len(subespecialidades)"
   ]
  },
  {
   "cell_type": "code",
   "execution_count": null,
   "id": "3529ea9c",
   "metadata": {},
   "outputs": [],
   "source": [
    "#se valida longitud lista links, debe ser igual a la lista subespecialidades\n",
    "len(links)"
   ]
  },
  {
   "cell_type": "code",
   "execution_count": null,
   "id": "779fa990",
   "metadata": {},
   "outputs": [],
   "source": [
    "#se define función principal que realizar requets a cada enlace por especialidad\n",
    "#se generarn df por cada especialidad\n",
    "#se concatenan cada uno de los df para crear df final consolidado\n",
    "def extraer_informacion(links: list) -> list:\n",
    "    \n",
    "    data = []\n",
    "    total = len(links)\n",
    "    dfs = []\n",
    "    for i,link in enumerate(links):\n",
    "        \n",
    "        if link.startswith('/'):\n",
    "            link = 'https://medicosdoc.com'+link\n",
    "        print('[{}/{} - Pidiendo {}'.format(i, total, link))\n",
    "        \n",
    "        lista_dir = get_info(link)\n",
    "        df_dir = crear_df(lista_dir)\n",
    "        dfs.append(df_dir)\n",
    "\n",
    "        df_final = pd.concat(dfs)\n",
    "    \n",
    "    return df_final"
   ]
  },
  {
   "cell_type": "code",
   "execution_count": null,
   "id": "aca08492",
   "metadata": {},
   "outputs": [],
   "source": [
    "# prueba función final\n",
    "#enlaces = ['/subespecialidad/cardiologo-tunja', '/subespecialidad/alergologo-tunja', '/subespecialidad/alergologo-pediatra-tunja']\n",
    "#lista_prueba = extraer_informacion(enlaces)"
   ]
  },
  {
   "cell_type": "code",
   "execution_count": null,
   "id": "618ad3aa",
   "metadata": {},
   "outputs": [],
   "source": [
    "#lista_prueba"
   ]
  },
  {
   "cell_type": "code",
   "execution_count": null,
   "id": "84e7da98",
   "metadata": {},
   "outputs": [],
   "source": [
    "# procesamiento data funcion final, llamado función\n",
    "df_directorio = extraer_informacion(links)"
   ]
  },
  {
   "cell_type": "markdown",
   "id": "c5a237f6",
   "metadata": {},
   "source": [
    "#### Limpieza y export dataset"
   ]
  },
  {
   "cell_type": "code",
   "execution_count": null,
   "id": "0c164a3d",
   "metadata": {},
   "outputs": [],
   "source": [
    "#validación estructura df final\n",
    "df_directorio.head(5)\n",
    "#df_directorio"
   ]
  },
  {
   "cell_type": "code",
   "execution_count": null,
   "id": "289b5c20",
   "metadata": {},
   "outputs": [],
   "source": [
    "#se eliminan duplicados si existen\n",
    "df_directorio.drop_duplicates(ignore_index=True, inplace=True)\n",
    "#df_directorio"
   ]
  },
  {
   "cell_type": "code",
   "execution_count": null,
   "id": "0725926d",
   "metadata": {},
   "outputs": [],
   "source": [
    "#se exporta archivo en formato csv\n",
    "df_directorio.to_csv('directorio_salud_'+ciudad_busqueda+'.csv', index=False, encoding='utf-8', sep = ';')"
   ]
  },
  {
   "cell_type": "code",
   "execution_count": null,
   "id": "2dbe4d13",
   "metadata": {},
   "outputs": [],
   "source": [
    "#se exporta archivo en formato excel\n",
    "df_directorio.to_excel('directorio_salud_'+ciudad_busqueda+'.xlsx', index=False, encoding='latin1')"
   ]
  },
  {
   "cell_type": "code",
   "execution_count": null,
   "id": "28e85fa5",
   "metadata": {},
   "outputs": [],
   "source": []
  },
  {
   "cell_type": "code",
   "execution_count": null,
   "id": "5eae2e8d",
   "metadata": {},
   "outputs": [],
   "source": []
  }
 ],
 "metadata": {
  "kernelspec": {
   "display_name": "Python [conda env:dhds2022] *",
   "language": "python",
   "name": "conda-env-dhds2022-py"
  },
  "language_info": {
   "codemirror_mode": {
    "name": "ipython",
    "version": 3
   },
   "file_extension": ".py",
   "mimetype": "text/x-python",
   "name": "python",
   "nbconvert_exporter": "python",
   "pygments_lexer": "ipython3",
   "version": "3.10.4"
  }
 },
 "nbformat": 4,
 "nbformat_minor": 5
}
